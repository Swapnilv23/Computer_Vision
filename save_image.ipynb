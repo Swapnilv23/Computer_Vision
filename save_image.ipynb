{
 "cells": [
  {
   "cell_type": "raw",
   "metadata": {},
   "source": [
    "How do you save a image in Python?"
   ]
  },
  {
   "cell_type": "code",
   "execution_count": 1,
   "metadata": {},
   "outputs": [
    {
     "name": "stdout",
     "output_type": "stream",
     "text": [
      "(549, 428, 3)\n"
     ]
    }
   ],
   "source": [
    "import cv2\n",
    "#To read image\n",
    "img=cv2.imread(\"b6.bmp\")\n",
    "#How many rows and columns means height and width and channel\n",
    "#means to show resolution : height in pixel * width in pixel*channel\n",
    "print(img.shape)"
   ]
  },
  {
   "cell_type": "code",
   "execution_count": 2,
   "metadata": {},
   "outputs": [
    {
     "name": "stdout",
     "output_type": "stream",
     "text": [
      "Save image successfully\n"
     ]
    }
   ],
   "source": [
    "#Save Image permanently in file\n",
    "\n",
    "#Resize the image\n",
    "img_resize=cv2.resize(img,(300,250))\n",
    "#To change resize image to gray scale\n",
    "gray_img=cv2.cvtColor(img_resize,cv2.COLOR_BGR2GRAY)\n",
    "#Save gray_img to save in new file then use inbuilt method\n",
    "#imwrite() means image write . it is inbuilt method of cv2\n",
    "#syntax : cv2.imwrite(\"permanentfile.jpg/.bmp/.gif/.png\",image)\n",
    "cv2.imwrite(\"gray_image.png\",gray_img)\n",
    "print(\"Save image successfully\")\n",
    "\n",
    "#Read read save image\n",
    "img1=cv2.imread(\"gray_image.png\")\n",
    "cv2.imshow(\"Image\",img1)\n",
    "cv2.waitKey(0) #to hold output screen (when press any key of\n",
    "#keyboard then exit the output screen)\n",
    "cv2.destroyAllWindows()"
   ]
  },
  {
   "cell_type": "code",
   "execution_count": null,
   "metadata": {},
   "outputs": [],
   "source": []
  }
 ],
 "metadata": {
  "kernelspec": {
   "display_name": "Python 3 (ipykernel)",
   "language": "python",
   "name": "python3"
  },
  "language_info": {
   "codemirror_mode": {
    "name": "ipython",
    "version": 3
   },
   "file_extension": ".py",
   "mimetype": "text/x-python",
   "name": "python",
   "nbconvert_exporter": "python",
   "pygments_lexer": "ipython3",
   "version": "3.8.11"
  }
 },
 "nbformat": 4,
 "nbformat_minor": 4
}
