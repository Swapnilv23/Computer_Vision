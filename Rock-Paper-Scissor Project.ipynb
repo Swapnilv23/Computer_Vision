{
 "cells": [
  {
   "cell_type": "code",
   "execution_count": 1,
   "metadata": {},
   "outputs": [],
   "source": [
    "import os\n",
    "#Location of our Train and Test Data For Rock, Paper, Scissor repectively\n",
    "base_dir = 'RPS'\n",
    "\n",
    "train_dir = 'RPS/train'\n",
    "test_dir = 'RPS/test'\n",
    "\n",
    "train_rock_dir = 'RPS/train/rock'\n",
    "train_paper_dir = 'RPS/train/paper'\n",
    "train_scissor_dir = 'RPS/train/scissor'\n",
    "\n",
    "test_rock_dir = 'RPS/test/rock'\n",
    "test_paper_dir = 'RPS/test/paper'\n",
    "test_scissor_dir = 'RPS/test/scissor'"
   ]
  },
  {
   "cell_type": "code",
   "execution_count": 2,
   "metadata": {},
   "outputs": [],
   "source": [
    "#Importing neccessary Libraries\n",
    "import numpy as np\n",
    "import pandas as pd\n",
    "import matplotlib.pyplot as plt\n",
    "\n",
    "from tensorflow.keras.models import Sequential\n",
    "from tensorflow.keras.layers import Dense, Flatten, Conv2D, MaxPooling2D"
   ]
  },
  {
   "cell_type": "code",
   "execution_count": 3,
   "metadata": {},
   "outputs": [
    {
     "name": "stdout",
     "output_type": "stream",
     "text": [
      "Model: \"sequential\"\n",
      "_________________________________________________________________\n",
      "Layer (type)                 Output Shape              Param #   \n",
      "=================================================================\n",
      "conv2d (Conv2D)              (None, 148, 148, 32)      896       \n",
      "_________________________________________________________________\n",
      "max_pooling2d (MaxPooling2D) (None, 74, 74, 32)        0         \n",
      "_________________________________________________________________\n",
      "conv2d_1 (Conv2D)            (None, 72, 72, 64)        18496     \n",
      "_________________________________________________________________\n",
      "max_pooling2d_1 (MaxPooling2 (None, 36, 36, 64)        0         \n",
      "_________________________________________________________________\n",
      "conv2d_2 (Conv2D)            (None, 34, 34, 128)       73856     \n",
      "_________________________________________________________________\n",
      "max_pooling2d_2 (MaxPooling2 (None, 17, 17, 128)       0         \n",
      "_________________________________________________________________\n",
      "conv2d_3 (Conv2D)            (None, 15, 15, 128)       147584    \n",
      "_________________________________________________________________\n",
      "max_pooling2d_3 (MaxPooling2 (None, 7, 7, 128)         0         \n",
      "_________________________________________________________________\n",
      "flatten (Flatten)            (None, 6272)              0         \n",
      "_________________________________________________________________\n",
      "dense (Dense)                (None, 512)               3211776   \n",
      "_________________________________________________________________\n",
      "dense_1 (Dense)              (None, 3)                 1539      \n",
      "=================================================================\n",
      "Total params: 3,454,147\n",
      "Trainable params: 3,454,147\n",
      "Non-trainable params: 0\n",
      "_________________________________________________________________\n"
     ]
    }
   ],
   "source": [
    "#MODEL DESIGN\n",
    "model = Sequential()\n",
    "#CONVOLUTION LAYER & POOLING LAYER along with RELU Function\n",
    "model.add(Conv2D(32, (3, 3), activation='relu',input_shape=(150, 150, 3)))\n",
    "#Convolution helps us identify important deatures in an image. Relu Function makes all negative values zero and \n",
    "#gives non linearity\n",
    "model.add(MaxPooling2D((2, 2)))\n",
    "#Pooling Downsamples the dimensions of images such that only important features can be focused.\n",
    "model.add(Conv2D(64, (3, 3), activation='relu'))\n",
    "model.add(MaxPooling2D((2, 2)))\n",
    "model.add(Conv2D(128, (3, 3), activation='relu'))\n",
    "model.add(MaxPooling2D((2, 2)))\n",
    "model.add(Conv2D(128, (3, 3), activation='relu'))\n",
    "model.add(MaxPooling2D((2, 2)))\n",
    "#FLATTEN LAYER\n",
    "# It changes 2d of image into 1d vector for ANN to work on\n",
    "model.add(Flatten())\n",
    "#ANN\n",
    "model.add(Dense(512, activation='relu'))\n",
    "model.add(Dense(3, activation='softmax'))\n",
    "model.summary()"
   ]
  },
  {
   "cell_type": "code",
   "execution_count": 4,
   "metadata": {},
   "outputs": [
    {
     "name": "stdout",
     "output_type": "stream",
     "text": [
      "Found 1531 images belonging to 3 classes.\n",
      "Found 657 images belonging to 3 classes.\n"
     ]
    }
   ],
   "source": [
    "#PREPROCCESSING\n",
    "#Image data generator expands the dataset to improve performance and to generalize.\n",
    "from tensorflow.keras.preprocessing.image import ImageDataGenerator\n",
    "\n",
    "train_datagen = ImageDataGenerator(rescale=1./255)\n",
    "test_datagen = ImageDataGenerator(rescale=1./255)\n",
    "\n",
    "train_generator = train_datagen.flow_from_directory(train_dir,target_size=(150, 150),batch_size=32,class_mode='categorical')\n",
    "test_generator = test_datagen.flow_from_directory(test_dir,target_size=(150, 150),batch_size=32,class_mode='categorical')"
   ]
  },
  {
   "cell_type": "code",
   "execution_count": 5,
   "metadata": {},
   "outputs": [
    {
     "name": "stdout",
     "output_type": "stream",
     "text": [
      "Epoch 1/10\n"
     ]
    },
    {
     "name": "stderr",
     "output_type": "stream",
     "text": [
      "C:\\ProgramData\\Anaconda3\\lib\\site-packages\\tensorflow\\python\\keras\\engine\\training.py:1844: UserWarning: `Model.fit_generator` is deprecated and will be removed in a future version. Please use `Model.fit`, which supports generators.\n",
      "  warnings.warn('`Model.fit_generator` is deprecated and '\n"
     ]
    },
    {
     "name": "stdout",
     "output_type": "stream",
     "text": [
      "48/48 [==============================] - 30s 612ms/step - loss: 0.5390 - accuracy: 0.5577\n",
      "Epoch 2/10\n",
      "48/48 [==============================] - 29s 609ms/step - loss: 0.1394 - accuracy: 0.9350\n",
      "Epoch 3/10\n",
      "48/48 [==============================] - 30s 624ms/step - loss: 0.0678 - accuracy: 0.9665\n",
      "Epoch 4/10\n",
      "48/48 [==============================] - 29s 606ms/step - loss: 0.0509 - accuracy: 0.9752\n",
      "Epoch 5/10\n",
      "48/48 [==============================] - 29s 599ms/step - loss: 0.0545 - accuracy: 0.9734\n",
      "Epoch 6/10\n",
      "48/48 [==============================] - 29s 598ms/step - loss: 0.0146 - accuracy: 0.9940\n",
      "Epoch 7/10\n",
      "48/48 [==============================] - 29s 597ms/step - loss: 0.0192 - accuracy: 0.9919\n",
      "Epoch 8/10\n",
      "48/48 [==============================] - 29s 603ms/step - loss: 0.0158 - accuracy: 0.9939\n",
      "Epoch 9/10\n",
      "48/48 [==============================] - 29s 601ms/step - loss: 0.0170 - accuracy: 0.9880\n",
      "Epoch 10/10\n",
      "48/48 [==============================] - 29s 599ms/step - loss: 0.0070 - accuracy: 0.9985\n"
     ]
    }
   ],
   "source": [
    "#Compiling the model to decrease Loss and increase Accuracy over the course of 10 epochs\n",
    "model.compile(loss='binary_crossentropy',optimizer=\"adam\",metrics=['accuracy'])\n",
    "mod=model.fit_generator(train_generator,epochs=10)"
   ]
  },
  {
   "cell_type": "code",
   "execution_count": 6,
   "metadata": {},
   "outputs": [
    {
     "name": "stdout",
     "output_type": "stream",
     "text": [
      "21/21 [==============================] - 3s 133ms/step - loss: 0.0332 - accuracy: 0.9848\n",
      "0.0331830233335495\n",
      "0.9847792983055115\n"
     ]
    }
   ],
   "source": [
    "# Evsluating our Test Loss and Accuracy\n",
    "test_loss, test_accuracy = model.evaluate(test_generator)\n",
    "print(test_loss)\n",
    "print(test_accuracy)"
   ]
  },
  {
   "cell_type": "code",
   "execution_count": 7,
   "metadata": {},
   "outputs": [],
   "source": [
    "#Lets provide sample Images to check our models prediction\n",
    "# Classes are Paper - 0 Rock - 1  Scissor - 2  \n",
    "# We also change our dimensions to make it simillar to the images during preproccessing\n",
    "import cv2"
   ]
  },
  {
   "cell_type": "code",
   "execution_count": 8,
   "metadata": {},
   "outputs": [],
   "source": [
    "img=cv2.imread('Rock.png')\n",
    "img=cv2.resize(img,(150,150))"
   ]
  },
  {
   "cell_type": "code",
   "execution_count": 9,
   "metadata": {},
   "outputs": [],
   "source": [
    "#im_array = np.array(img)\n",
    "#im_array = im_array*(1/225)\n",
    "#print(im_array)\n",
    "#img.shape\n",
    "img = np.array([img]).astype('float64') / 255.0"
   ]
  },
  {
   "cell_type": "code",
   "execution_count": 10,
   "metadata": {},
   "outputs": [
    {
     "name": "stdout",
     "output_type": "stream",
     "text": [
      "[[1.8914432e-12 1.0000000e+00 5.4057845e-11]]\n"
     ]
    }
   ],
   "source": [
    "pre = model.predict(img)\n",
    "print(pre)"
   ]
  },
  {
   "cell_type": "code",
   "execution_count": 11,
   "metadata": {},
   "outputs": [],
   "source": [
    "target_index = np.argmax(pre[0])"
   ]
  },
  {
   "cell_type": "code",
   "execution_count": 12,
   "metadata": {},
   "outputs": [],
   "source": [
    "prob = np.max(pre[0])"
   ]
  },
  {
   "cell_type": "code",
   "execution_count": 13,
   "metadata": {},
   "outputs": [
    {
     "name": "stdout",
     "output_type": "stream",
     "text": [
      "1\n"
     ]
    }
   ],
   "source": [
    "#Class Index\n",
    "print(target_index)"
   ]
  },
  {
   "cell_type": "code",
   "execution_count": 14,
   "metadata": {},
   "outputs": [
    {
     "name": "stdout",
     "output_type": "stream",
     "text": [
      "1.0\n"
     ]
    }
   ],
   "source": [
    "#Class Probability\n",
    "print(prob)"
   ]
  },
  {
   "cell_type": "code",
   "execution_count": 15,
   "metadata": {},
   "outputs": [],
   "source": [
    "img1=cv2.imread('Scissor2.png')\n",
    "img1=cv2.resize(img1,(150,150))"
   ]
  },
  {
   "cell_type": "code",
   "execution_count": 16,
   "metadata": {},
   "outputs": [],
   "source": [
    "img1 = np.array([img1]).astype('float64') / 255.0"
   ]
  },
  {
   "cell_type": "code",
   "execution_count": 17,
   "metadata": {},
   "outputs": [
    {
     "name": "stdout",
     "output_type": "stream",
     "text": [
      "[[1.575566e-19 9.843154e-25 1.000000e+00]]\n"
     ]
    }
   ],
   "source": [
    "pre = model.predict(img1)\n",
    "print(pre)"
   ]
  },
  {
   "cell_type": "code",
   "execution_count": 18,
   "metadata": {},
   "outputs": [],
   "source": [
    "target_index = np.argmax(pre[0])"
   ]
  },
  {
   "cell_type": "code",
   "execution_count": 19,
   "metadata": {},
   "outputs": [],
   "source": [
    "prob = np.max(pre[0])"
   ]
  },
  {
   "cell_type": "code",
   "execution_count": 20,
   "metadata": {},
   "outputs": [
    {
     "name": "stdout",
     "output_type": "stream",
     "text": [
      "2\n"
     ]
    }
   ],
   "source": [
    "#Class Index\n",
    "print(target_index)"
   ]
  },
  {
   "cell_type": "code",
   "execution_count": 21,
   "metadata": {},
   "outputs": [
    {
     "name": "stdout",
     "output_type": "stream",
     "text": [
      "1.0\n"
     ]
    }
   ],
   "source": [
    "#Class Probability\n",
    "print(prob)"
   ]
  },
  {
   "cell_type": "code",
   "execution_count": 22,
   "metadata": {},
   "outputs": [],
   "source": [
    "img2=cv2.imread('Paper1.png')\n",
    "img2=cv2.resize(img2,(150,150))"
   ]
  },
  {
   "cell_type": "code",
   "execution_count": 23,
   "metadata": {},
   "outputs": [],
   "source": [
    "img2 = np.array([img2]).astype('float64') / 255.0"
   ]
  },
  {
   "cell_type": "code",
   "execution_count": 24,
   "metadata": {},
   "outputs": [
    {
     "name": "stdout",
     "output_type": "stream",
     "text": [
      "[[9.9863905e-01 7.9853600e-04 5.6240580e-04]]\n"
     ]
    }
   ],
   "source": [
    "pre = model.predict(img2)\n",
    "print(pre)"
   ]
  },
  {
   "cell_type": "code",
   "execution_count": 25,
   "metadata": {},
   "outputs": [],
   "source": [
    "target_index = np.argmax(pre[0])"
   ]
  },
  {
   "cell_type": "code",
   "execution_count": 26,
   "metadata": {},
   "outputs": [],
   "source": [
    "prob = np.max(pre[0])"
   ]
  },
  {
   "cell_type": "code",
   "execution_count": 27,
   "metadata": {},
   "outputs": [
    {
     "name": "stdout",
     "output_type": "stream",
     "text": [
      "0\n"
     ]
    }
   ],
   "source": [
    "#Class Index\n",
    "print(target_index)"
   ]
  },
  {
   "cell_type": "code",
   "execution_count": 28,
   "metadata": {},
   "outputs": [
    {
     "name": "stdout",
     "output_type": "stream",
     "text": [
      "0.99863905\n"
     ]
    }
   ],
   "source": [
    "#Class Probability\n",
    "print(prob)"
   ]
  },
  {
   "cell_type": "code",
   "execution_count": 36,
   "metadata": {},
   "outputs": [
    {
     "name": "stdout",
     "output_type": "stream",
     "text": [
      "\n",
      "Press associated number to the move you want to play\n",
      "Rock - 1  \n",
      "Scissor - 2  \n",
      "Paper - 0\n",
      "Exit - -1\n",
      "\n",
      "Enter Your Move:2\n",
      "Its a Tie\n"
     ]
    }
   ],
   "source": [
    "#Now lets randomly generate output as per users input move\n",
    "import random as ran\n",
    "print('''\n",
    "Press associated number to the move you want to play\n",
    "Rock - 1  \n",
    "Scissor - 2  \n",
    "Paper - 0\n",
    "Exit - -1\n",
    "''')\n",
    "userin=10\n",
    "while(True):\n",
    "    userin = int(input('Enter Your Move:'))\n",
    "    aiin = ran.randint(0,2)\n",
    "    if(userin<3 and userin>0):\n",
    "        if(userin==aiin):\n",
    "            print('Its a Tie')\n",
    "            break\n",
    "        elif(userin==1 and aiin==3):\n",
    "            print('AI beat you')\n",
    "            break\n",
    "        elif(userin==1 and aiin==2):\n",
    "            print('You beat AI')\n",
    "            break\n",
    "        elif(userin==2 and aiin==3):\n",
    "            print('You beat AI')\n",
    "            break\n",
    "        elif(userin==2 and aiin==1):\n",
    "            print('AI beat you')\n",
    "            break\n",
    "        elif(userin==3 and aiin==1):\n",
    "            print('You beat AI')\n",
    "            break\n",
    "        else:\n",
    "            print('AI beat you')\n",
    "            break\n",
    "    else:\n",
    "        print('Exiting...')\n",
    "        break\n",
    "\n",
    "        "
   ]
  },
  {
   "cell_type": "code",
   "execution_count": null,
   "metadata": {},
   "outputs": [],
   "source": []
  }
 ],
 "metadata": {
  "kernelspec": {
   "display_name": "Python 3 (ipykernel)",
   "language": "python",
   "name": "python3"
  },
  "language_info": {
   "codemirror_mode": {
    "name": "ipython",
    "version": 3
   },
   "file_extension": ".py",
   "mimetype": "text/x-python",
   "name": "python",
   "nbconvert_exporter": "python",
   "pygments_lexer": "ipython3",
   "version": "3.8.11"
  }
 },
 "nbformat": 4,
 "nbformat_minor": 4
}
