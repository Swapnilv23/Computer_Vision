{
 "cells": [
  {
   "cell_type": "raw",
   "metadata": {},
   "source": [
    "How can you do image resize in opencv  ?"
   ]
  },
  {
   "cell_type": "code",
   "execution_count": 1,
   "metadata": {},
   "outputs": [
    {
     "name": "stdout",
     "output_type": "stream",
     "text": [
      "(549, 428, 3)\n"
     ]
    }
   ],
   "source": [
    "import cv2\n",
    "#To read image\n",
    "img=cv2.imread(\"b6.bmp\")\n",
    "#How many rows and columns means height and width and channel\n",
    "#means to show resolution : height in pixel * width in pixel*channel\n",
    "print(img.shape)"
   ]
  },
  {
   "cell_type": "code",
   "execution_count": 2,
   "metadata": {},
   "outputs": [],
   "source": [
    "#To Resize the coloured image\n",
    "#To change the image size then use inbuilt method resize()\n",
    "#it is inbuilt method of cv2 library\n",
    "img_resize=cv2.resize(img,(200,150)) #passing 2 parameters\n",
    "#1. image and 2. height and width in tuple\n",
    "#Show Image\n",
    "cv2.imshow(\"Original Image\",img)\n",
    "cv2.imshow(\"Resize Image\",img_resize)\n",
    "cv2.waitKey(0) #to hold output screen (when press any key of\n",
    "#keyboard then exit the output screen)\n",
    "cv2.destroyAllWindows()"
   ]
  },
  {
   "cell_type": "code",
   "execution_count": null,
   "metadata": {},
   "outputs": [],
   "source": []
  }
 ],
 "metadata": {
  "kernelspec": {
   "display_name": "Python 3",
   "language": "python",
   "name": "python3"
  },
  "language_info": {
   "codemirror_mode": {
    "name": "ipython",
    "version": 3
   },
   "file_extension": ".py",
   "mimetype": "text/x-python",
   "name": "python",
   "nbconvert_exporter": "python",
   "pygments_lexer": "ipython3",
   "version": "3.8.3"
  }
 },
 "nbformat": 4,
 "nbformat_minor": 4
}
