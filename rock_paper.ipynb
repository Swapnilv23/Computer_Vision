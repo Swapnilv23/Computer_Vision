{
 "cells": [
  {
   "cell_type": "markdown",
   "metadata": {},
   "source": [
    "# import require module"
   ]
  },
  {
   "cell_type": "code",
   "execution_count": 1,
   "metadata": {},
   "outputs": [],
   "source": [
    "import numpy as np\n",
    "import pandas as pd\n",
    "import matplotlib.pyplot as plt\n",
    "\n",
    "from tensorflow.keras.models import Sequential\n",
    "from tensorflow.keras.layers import Dense, Flatten, Conv2D, MaxPooling2D\n",
    "from tensorflow.keras.preprocessing.image import ImageDataGenerator"
   ]
  },
  {
   "cell_type": "markdown",
   "metadata": {},
   "source": [
    "# extract zip file"
   ]
  },
  {
   "cell_type": "code",
   "execution_count": 2,
   "metadata": {},
   "outputs": [],
   "source": [
    "# extract zip file\n",
    "import zipfile\n",
    "import os\n",
    "local_zip = r'C:\\Users\\swapn\\CV\\Assignment\\rockpaperscissors/rockpaperscissors.zip'\n",
    "base_dir = r'C:\\Users\\swapn\\CV\\Assignment/rockpaperscissors/rockpaperscissors'\n",
    "zip_extract = zipfile.ZipFile(local_zip, 'r')\n",
    "zip_extract.extractall(r'C:\\Users\\swapn\\CV\\Assignment\\rockpaperscissors')\n",
    "zip_extract.close()"
   ]
  },
  {
   "cell_type": "markdown",
   "metadata": {},
   "source": [
    "# given path for data"
   ]
  },
  {
   "cell_type": "code",
   "execution_count": 3,
   "metadata": {},
   "outputs": [],
   "source": [
    "#data\n",
    "\n",
    "\n",
    "base_dir = 'rockpaperscissors'\n",
    "\n",
    "train_dir = 'rockpaperscissors/train'\n",
    "test_dir = 'rockpaperscissors/test'\n",
    "\n",
    "train_paper_dir = 'rockpaperscissors/train/paper'\n",
    "train_rock_dir = 'rockpaperscissors/train/rock'\n",
    "train_scissors_dir = 'rockpaperscissors/train/scissors'\n",
    "\n",
    "test_paper_dir = 'rockpaperscissors/test\\paper'\n",
    "test_rock_dir = 'rockpaperscissors/test\\rock'\n",
    "test_scissors_dir = 'rockpaperscissors/test\\scissors'"
   ]
  },
  {
   "cell_type": "markdown",
   "metadata": {},
   "source": [
    "# checking the image on dataset"
   ]
  },
  {
   "cell_type": "code",
   "execution_count": 4,
   "metadata": {},
   "outputs": [
    {
     "name": "stdout",
     "output_type": "stream",
     "text": [
      "total train paper images: 712\n",
      "total train rock images: 726\n",
      "total train scissors images: 750\n",
      "total test paper images: 712\n",
      "total test rock images: 726\n",
      "total test scissors images: 750\n"
     ]
    }
   ],
   "source": [
    "print('total train paper images:', len(os.listdir(train_paper_dir)))\n",
    "print('total train rock images:', len(os.listdir(train_rock_dir)))\n",
    "print('total train scissors images:', len(os.listdir(train_scissors_dir)))\n",
    "print('total test paper images:', len(os.listdir(train_paper_dir)))\n",
    "print('total test rock images:', len(os.listdir(train_rock_dir)))\n",
    "print('total test scissors images:', len(os.listdir(train_scissors_dir)))"
   ]
  },
  {
   "cell_type": "code",
   "execution_count": 5,
   "metadata": {},
   "outputs": [
    {
     "name": "stdout",
     "output_type": "stream",
     "text": [
      "Found 2188 images belonging to 3 classes.\n",
      "Found 2188 images belonging to 3 classes.\n"
     ]
    }
   ],
   "source": [
    "# All images will be rescaled by 1./255\n",
    "train_datagen = ImageDataGenerator(rescale=1./255)\n",
    "test_datagen = ImageDataGenerator(rescale=1./255)\n",
    "\n",
    "train_generator = train_datagen.flow_from_directory(train_dir,target_size=(150, 150),batch_size=32,class_mode='binary')\n",
    "test_generator = test_datagen.flow_from_directory(test_dir,target_size=(150, 150),batch_size=32,class_mode='binary')"
   ]
  },
  {
   "cell_type": "markdown",
   "metadata": {},
   "source": [
    "# use CNN "
   ]
  },
  {
   "cell_type": "code",
   "execution_count": 6,
   "metadata": {},
   "outputs": [
    {
     "name": "stdout",
     "output_type": "stream",
     "text": [
      "Model: \"sequential\"\n",
      "_________________________________________________________________\n",
      "Layer (type)                 Output Shape              Param #   \n",
      "=================================================================\n",
      "conv2d (Conv2D)              (None, 148, 148, 32)      896       \n",
      "_________________________________________________________________\n",
      "max_pooling2d (MaxPooling2D) (None, 74, 74, 32)        0         \n",
      "_________________________________________________________________\n",
      "conv2d_1 (Conv2D)            (None, 72, 72, 64)        18496     \n",
      "_________________________________________________________________\n",
      "max_pooling2d_1 (MaxPooling2 (None, 36, 36, 64)        0         \n",
      "_________________________________________________________________\n",
      "conv2d_2 (Conv2D)            (None, 34, 34, 128)       73856     \n",
      "_________________________________________________________________\n",
      "max_pooling2d_2 (MaxPooling2 (None, 17, 17, 128)       0         \n",
      "_________________________________________________________________\n",
      "conv2d_3 (Conv2D)            (None, 15, 15, 128)       147584    \n",
      "_________________________________________________________________\n",
      "max_pooling2d_3 (MaxPooling2 (None, 7, 7, 128)         0         \n",
      "_________________________________________________________________\n",
      "flatten (Flatten)            (None, 6272)              0         \n",
      "_________________________________________________________________\n",
      "dense (Dense)                (None, 512)               3211776   \n",
      "_________________________________________________________________\n",
      "dense_1 (Dense)              (None, 1)                 513       \n",
      "=================================================================\n",
      "Total params: 3,453,121\n",
      "Trainable params: 3,453,121\n",
      "Non-trainable params: 0\n",
      "_________________________________________________________________\n"
     ]
    }
   ],
   "source": [
    "model = Sequential()\n",
    "#CONVOLUTION LAYER & POOLING LAYER along with RELU Function\n",
    "model.add(Conv2D(32, (3, 3), activation='relu',input_shape=(150, 150, 3)))\n",
    "#Convolution helps us identify important deatures in an image. Relu Function makes all negative values zero and \n",
    "#gives non linearity\n",
    "model.add(MaxPooling2D((2, 2)))\n",
    "#Pooling Downsamples the dimensions of images such that only important features can be focused.\n",
    "model.add(Conv2D(64, (3, 3), activation='relu'))\n",
    "model.add(MaxPooling2D((2, 2)))\n",
    "model.add(Conv2D(128, (3, 3), activation='relu'))\n",
    "model.add(MaxPooling2D((2, 2)))\n",
    "model.add(Conv2D(128, (3, 3), activation='relu'))\n",
    "model.add(MaxPooling2D((2, 2)))\n",
    "#FLATTEN LAYER\n",
    "# It changes 2d of image into 1d vector for ANN to work on\n",
    "model.add(Flatten())\n",
    "#ANN\n",
    "model.add(Dense(512, activation='relu'))\n",
    "model.add(Dense(1, activation='sigmoid'))\n",
    "model.summary()"
   ]
  },
  {
   "cell_type": "code",
   "execution_count": 7,
   "metadata": {},
   "outputs": [
    {
     "name": "stderr",
     "output_type": "stream",
     "text": [
      "C:\\Users\\swapn\\anaconda3\\lib\\site-packages\\keras\\engine\\training.py:1972: UserWarning: `Model.fit_generator` is deprecated and will be removed in a future version. Please use `Model.fit`, which supports generators.\n",
      "  warnings.warn('`Model.fit_generator` is deprecated and '\n"
     ]
    },
    {
     "name": "stdout",
     "output_type": "stream",
     "text": [
      "Epoch 1/10\n",
      "69/69 [==============================] - 53s 760ms/step - loss: -46.3962 - accuracy: 0.3318\n",
      "Epoch 2/10\n",
      "69/69 [==============================] - 49s 712ms/step - loss: -2111427.7500 - accuracy: 0.3318\n",
      "Epoch 3/10\n",
      "69/69 [==============================] - 51s 737ms/step - loss: -144097760.0000 - accuracy: 0.3318\n",
      "Epoch 4/10\n",
      "69/69 [==============================] - 51s 738ms/step - loss: -2207163136.0000 - accuracy: 0.3318\n",
      "Epoch 5/10\n",
      "69/69 [==============================] - 51s 745ms/step - loss: -17561679872.0000 - accuracy: 0.3318\n",
      "Epoch 6/10\n",
      "69/69 [==============================] - 50s 720ms/step - loss: -96185122816.0000 - accuracy: 0.3318\n",
      "Epoch 7/10\n",
      "69/69 [==============================] - 51s 745ms/step - loss: -352956514304.0000 - accuracy: 0.3318\n",
      "Epoch 8/10\n",
      "69/69 [==============================] - 49s 715ms/step - loss: -994590785536.0000 - accuracy: 0.3318\n",
      "Epoch 9/10\n",
      "69/69 [==============================] - 50s 725ms/step - loss: -2466183643136.0000 - accuracy: 0.3318\n",
      "Epoch 10/10\n",
      "69/69 [==============================] - 50s 728ms/step - loss: -5384573550592.0000 - accuracy: 0.3318\n"
     ]
    },
    {
     "data": {
      "text/plain": [
       "<keras.callbacks.History at 0x22d42e0e5b0>"
      ]
     },
     "execution_count": 7,
     "metadata": {},
     "output_type": "execute_result"
    }
   ],
   "source": [
    "model.compile(loss='binary_crossentropy',optimizer=\"adam\",metrics=['accuracy'])\n",
    "#Compiling the model to decrease Loss and increase Accuracy over the course of 10 epochs\n",
    "model.fit_generator(train_generator,epochs=10)"
   ]
  },
  {
   "cell_type": "code",
   "execution_count": 8,
   "metadata": {},
   "outputs": [],
   "source": [
    "# image augmentation\n",
    "train_datagen = ImageDataGenerator(\n",
    "      rescale=1./255,\n",
    "      rotation_range=40,\n",
    "      width_shift_range=0.2,\n",
    "      height_shift_range=0.2,\n",
    "      shear_range=0.2,\n",
    "      zoom_range=0.2,\n",
    "      horizontal_flip=True,\n",
    "      fill_mode='nearest')\n",
    "\n",
    "test_datagen = ImageDataGenerator(rescale=1./255)"
   ]
  },
  {
   "cell_type": "code",
   "execution_count": 9,
   "metadata": {},
   "outputs": [
    {
     "name": "stdout",
     "output_type": "stream",
     "text": [
      "Found 2188 images belonging to 3 classes.\n",
      "Found 2188 images belonging to 3 classes.\n"
     ]
    }
   ],
   "source": [
    "train_generator = train_datagen.flow_from_directory(train_dir,target_size=(150, 150),batch_size=32,class_mode='binary')\n",
    "test_generator = test_datagen.flow_from_directory(test_dir,target_size=(150, 150),batch_size=32,class_mode='binary')"
   ]
  },
  {
   "cell_type": "code",
   "execution_count": 10,
   "metadata": {},
   "outputs": [],
   "source": [
    "model = Sequential()\n",
    "model.add(Conv2D(32, (3, 3), activation='relu',input_shape=(150, 150, 3)))\n",
    "model.add(MaxPooling2D((2, 2)))\n",
    "model.add(Conv2D(64, (3, 3), activation='relu'))\n",
    "model.add(MaxPooling2D((2, 2)))\n",
    "model.add(Conv2D(128, (3, 3), activation='relu'))\n",
    "model.add(MaxPooling2D((2, 2)))\n",
    "model.add(Conv2D(128, (3, 3), activation='relu'))\n",
    "model.add(MaxPooling2D((2, 2)))\n",
    "model.add(Flatten())\n",
    "model.add(Dense(512, activation='relu'))\n",
    "model.add(Dense(1, activation='sigmoid'))"
   ]
  },
  {
   "cell_type": "code",
   "execution_count": 11,
   "metadata": {},
   "outputs": [
    {
     "name": "stdout",
     "output_type": "stream",
     "text": [
      "Epoch 1/10\n",
      "69/69 [==============================] - 48s 687ms/step - loss: -959.8010 - accuracy: 0.3318\n",
      "Epoch 2/10\n",
      "69/69 [==============================] - 49s 703ms/step - loss: -422668.4688 - accuracy: 0.3318\n",
      "Epoch 3/10\n",
      "69/69 [==============================] - 50s 723ms/step - loss: -6800474.0000 - accuracy: 0.3318\n",
      "Epoch 4/10\n",
      "69/69 [==============================] - 50s 723ms/step - loss: -43930408.0000 - accuracy: 0.3318\n",
      "Epoch 5/10\n",
      "69/69 [==============================] - 52s 756ms/step - loss: -166068880.0000 - accuracy: 0.3318\n",
      "Epoch 6/10\n",
      "69/69 [==============================] - 49s 704ms/step - loss: -543833856.0000 - accuracy: 0.3318\n",
      "Epoch 7/10\n",
      "69/69 [==============================] - 53s 763ms/step - loss: -1354907392.0000 - accuracy: 0.3318\n",
      "Epoch 8/10\n",
      "69/69 [==============================] - 54s 775ms/step - loss: -3277555968.0000 - accuracy: 0.3318\n",
      "Epoch 9/10\n",
      "69/69 [==============================] - 54s 777ms/step - loss: -6669561344.0000 - accuracy: 0.3318\n",
      "Epoch 10/10\n",
      "69/69 [==============================] - 53s 768ms/step - loss: -11703591936.0000 - accuracy: 0.3318\n"
     ]
    },
    {
     "data": {
      "text/plain": [
       "<keras.callbacks.History at 0x22d42e1fac0>"
      ]
     },
     "execution_count": 11,
     "metadata": {},
     "output_type": "execute_result"
    }
   ],
   "source": [
    "model.compile(loss='binary_crossentropy',optimizer=\"rmsprop\",metrics=['accuracy'])\n",
    "model.fit_generator(train_generator,epochs=10)"
   ]
  },
  {
   "cell_type": "markdown",
   "metadata": {},
   "source": [
    "# accuracy"
   ]
  },
  {
   "cell_type": "code",
   "execution_count": 12,
   "metadata": {},
   "outputs": [
    {
     "name": "stdout",
     "output_type": "stream",
     "text": [
      "69/69 [==============================] - 12s 165ms/step - loss: -18965112832.0000 - accuracy: 0.3318\n",
      "-18965112832.0\n",
      "0.3318098783493042\n"
     ]
    }
   ],
   "source": [
    "test_loss, test_accuracy = model.evaluate(test_generator)\n",
    "print(test_loss)\n",
    "print(test_accuracy)"
   ]
  },
  {
   "cell_type": "markdown",
   "metadata": {},
   "source": [
    "# Using Pretrained Model"
   ]
  },
  {
   "cell_type": "markdown",
   "metadata": {},
   "source": [
    "# VGG16"
   ]
  },
  {
   "cell_type": "code",
   "execution_count": 13,
   "metadata": {},
   "outputs": [
    {
     "name": "stdout",
     "output_type": "stream",
     "text": [
      "Model: \"vgg16\"\n",
      "_________________________________________________________________\n",
      "Layer (type)                 Output Shape              Param #   \n",
      "=================================================================\n",
      "input_1 (InputLayer)         [(None, 150, 150, 3)]     0         \n",
      "_________________________________________________________________\n",
      "block1_conv1 (Conv2D)        (None, 150, 150, 64)      1792      \n",
      "_________________________________________________________________\n",
      "block1_conv2 (Conv2D)        (None, 150, 150, 64)      36928     \n",
      "_________________________________________________________________\n",
      "block1_pool (MaxPooling2D)   (None, 75, 75, 64)        0         \n",
      "_________________________________________________________________\n",
      "block2_conv1 (Conv2D)        (None, 75, 75, 128)       73856     \n",
      "_________________________________________________________________\n",
      "block2_conv2 (Conv2D)        (None, 75, 75, 128)       147584    \n",
      "_________________________________________________________________\n",
      "block2_pool (MaxPooling2D)   (None, 37, 37, 128)       0         \n",
      "_________________________________________________________________\n",
      "block3_conv1 (Conv2D)        (None, 37, 37, 256)       295168    \n",
      "_________________________________________________________________\n",
      "block3_conv2 (Conv2D)        (None, 37, 37, 256)       590080    \n",
      "_________________________________________________________________\n",
      "block3_conv3 (Conv2D)        (None, 37, 37, 256)       590080    \n",
      "_________________________________________________________________\n",
      "block3_pool (MaxPooling2D)   (None, 18, 18, 256)       0         \n",
      "_________________________________________________________________\n",
      "block4_conv1 (Conv2D)        (None, 18, 18, 512)       1180160   \n",
      "_________________________________________________________________\n",
      "block4_conv2 (Conv2D)        (None, 18, 18, 512)       2359808   \n",
      "_________________________________________________________________\n",
      "block4_conv3 (Conv2D)        (None, 18, 18, 512)       2359808   \n",
      "_________________________________________________________________\n",
      "block4_pool (MaxPooling2D)   (None, 9, 9, 512)         0         \n",
      "_________________________________________________________________\n",
      "block5_conv1 (Conv2D)        (None, 9, 9, 512)         2359808   \n",
      "_________________________________________________________________\n",
      "block5_conv2 (Conv2D)        (None, 9, 9, 512)         2359808   \n",
      "_________________________________________________________________\n",
      "block5_conv3 (Conv2D)        (None, 9, 9, 512)         2359808   \n",
      "_________________________________________________________________\n",
      "block5_pool (MaxPooling2D)   (None, 4, 4, 512)         0         \n",
      "=================================================================\n",
      "Total params: 14,714,688\n",
      "Trainable params: 14,714,688\n",
      "Non-trainable params: 0\n",
      "_________________________________________________________________\n"
     ]
    }
   ],
   "source": [
    "\n",
    "# VGG16\n",
    "from tensorflow.keras.applications import VGG16\n",
    "\n",
    "vgg_conv_base = VGG16(weights='imagenet', \n",
    "                      include_top=False, \n",
    "                      input_shape=(150, 150, 3))\n",
    "\n",
    "vgg_conv_base.summary()"
   ]
  },
  {
   "cell_type": "code",
   "execution_count": 14,
   "metadata": {},
   "outputs": [],
   "source": [
    "model = Sequential()\n",
    "model.add(vgg_conv_base)\n",
    "model.add(Flatten())\n",
    "model.add(Dense(256, activation='relu'))\n",
    "model.add(Dense(1, activation='sigmoid'))"
   ]
  },
  {
   "cell_type": "code",
   "execution_count": 15,
   "metadata": {},
   "outputs": [],
   "source": [
    "vgg_conv_base.trainable = False"
   ]
  },
  {
   "cell_type": "code",
   "execution_count": 16,
   "metadata": {},
   "outputs": [
    {
     "name": "stdout",
     "output_type": "stream",
     "text": [
      "Epoch 1/5\n",
      "69/69 [==============================] - 119s 2s/step - loss: -25.9233 - accuracy: 0.3455\n",
      "Epoch 2/5\n",
      "69/69 [==============================] - 117s 2s/step - loss: -150.4126 - accuracy: 0.3597\n",
      "Epoch 3/5\n",
      "69/69 [==============================] - 115s 2s/step - loss: -406.2266 - accuracy: 0.3652\n",
      "Epoch 4/5\n",
      "69/69 [==============================] - 119s 2s/step - loss: -808.3216 - accuracy: 0.3473\n",
      "Epoch 5/5\n",
      "69/69 [==============================] - 120s 2s/step - loss: -1404.5509 - accuracy: 0.3697\n"
     ]
    },
    {
     "data": {
      "text/plain": [
       "<keras.callbacks.History at 0x22d4a173ee0>"
      ]
     },
     "execution_count": 16,
     "metadata": {},
     "output_type": "execute_result"
    }
   ],
   "source": [
    "model.compile(loss='binary_crossentropy',optimizer=\"adam\",metrics=['accuracy'])\n",
    "model.fit_generator(train_generator,epochs=5)"
   ]
  },
  {
   "cell_type": "markdown",
   "metadata": {},
   "source": [
    "# accuracy vgg16"
   ]
  },
  {
   "cell_type": "code",
   "execution_count": 17,
   "metadata": {},
   "outputs": [
    {
     "name": "stdout",
     "output_type": "stream",
     "text": [
      "69/69 [==============================] - 115s 2s/step - loss: -2177.7839 - accuracy: 0.4081\n",
      "-2177.783935546875\n",
      "0.4081352949142456\n"
     ]
    }
   ],
   "source": [
    "test_loss, test_accuracy = model.evaluate(test_generator)\n",
    "print(test_loss)\n",
    "print(test_accuracy)"
   ]
  },
  {
   "cell_type": "markdown",
   "metadata": {},
   "source": [
    "# accuracy"
   ]
  },
  {
   "cell_type": "code",
   "execution_count": 21,
   "metadata": {},
   "outputs": [],
   "source": [
    "#test_loss, test_accuracy = model.evaluate(test_generator)\n",
    "#print(test_loss)\n",
    "#print(test_accuracy)"
   ]
  },
  {
   "cell_type": "code",
   "execution_count": 22,
   "metadata": {},
   "outputs": [],
   "source": [
    "#Lets provide sample Images to check our models prediction\n",
    "# Classes are Paper - 0 Rock - 1  Scissor - 2  \n",
    "# We also change our dimensions to make it simillar to the images during preproccessing\n",
    "import cv2"
   ]
  },
  {
   "cell_type": "code",
   "execution_count": 23,
   "metadata": {},
   "outputs": [],
   "source": [
    "img=cv2.imread(r'C:\\Users\\swapn\\CV\\Assignment\\rockpaperscissors\\rock.png')\n",
    "img=cv2.resize(img,(150,150))"
   ]
  },
  {
   "cell_type": "code",
   "execution_count": 24,
   "metadata": {},
   "outputs": [],
   "source": [
    "#im_array = np.array(img)\n",
    "#im_array = im_array*(1/225)\n",
    "#print(im_array)\n",
    "#img.shape\n",
    "img = np.array([img]).astype('float64') / 255.0"
   ]
  },
  {
   "cell_type": "code",
   "execution_count": 25,
   "metadata": {},
   "outputs": [
    {
     "name": "stdout",
     "output_type": "stream",
     "text": [
      "[[1.]]\n"
     ]
    }
   ],
   "source": [
    "pre = model.predict(img)\n",
    "print(pre)"
   ]
  },
  {
   "cell_type": "code",
   "execution_count": 26,
   "metadata": {},
   "outputs": [],
   "source": [
    "target_index = np.argmax(pre[0])"
   ]
  },
  {
   "cell_type": "code",
   "execution_count": 27,
   "metadata": {},
   "outputs": [],
   "source": [
    "prob = np.max(pre[0])"
   ]
  },
  {
   "cell_type": "code",
   "execution_count": 28,
   "metadata": {},
   "outputs": [
    {
     "name": "stdout",
     "output_type": "stream",
     "text": [
      "0\n"
     ]
    }
   ],
   "source": [
    "#Class Index\n",
    "print(target_index)"
   ]
  },
  {
   "cell_type": "code",
   "execution_count": 29,
   "metadata": {},
   "outputs": [
    {
     "name": "stdout",
     "output_type": "stream",
     "text": [
      "1.0\n"
     ]
    }
   ],
   "source": [
    "#Class Probability\n",
    "print(prob)"
   ]
  },
  {
   "cell_type": "code",
   "execution_count": 30,
   "metadata": {},
   "outputs": [],
   "source": [
    "img1=cv2.imread(r'C:\\Users\\swapn\\CV\\Assignment\\rockpaperscissors\\scissors.png')\n",
    "img1=cv2.resize(img1,(150,150))"
   ]
  },
  {
   "cell_type": "code",
   "execution_count": 31,
   "metadata": {},
   "outputs": [],
   "source": [
    "img1 = np.array([img1]).astype('float64') / 255.0"
   ]
  },
  {
   "cell_type": "code",
   "execution_count": 32,
   "metadata": {},
   "outputs": [
    {
     "name": "stdout",
     "output_type": "stream",
     "text": [
      "[[1.]]\n"
     ]
    }
   ],
   "source": [
    "pre = model.predict(img1)\n",
    "print(pre)"
   ]
  },
  {
   "cell_type": "code",
   "execution_count": 33,
   "metadata": {},
   "outputs": [],
   "source": [
    "target_index = np.argmax(pre[0])"
   ]
  },
  {
   "cell_type": "code",
   "execution_count": 34,
   "metadata": {},
   "outputs": [],
   "source": [
    "prob = np.max(pre[0])"
   ]
  },
  {
   "cell_type": "code",
   "execution_count": 35,
   "metadata": {},
   "outputs": [
    {
     "name": "stdout",
     "output_type": "stream",
     "text": [
      "0\n"
     ]
    }
   ],
   "source": [
    "#Class Index\n",
    "print(target_index)"
   ]
  },
  {
   "cell_type": "code",
   "execution_count": 36,
   "metadata": {},
   "outputs": [
    {
     "name": "stdout",
     "output_type": "stream",
     "text": [
      "1.0\n"
     ]
    }
   ],
   "source": [
    "#Class Probability\n",
    "print(prob)"
   ]
  },
  {
   "cell_type": "code",
   "execution_count": 37,
   "metadata": {},
   "outputs": [],
   "source": [
    "img2=cv2.imread(r'C:\\Users\\swapn\\CV\\Assignment\\rockpaperscissors\\paper.png')\n",
    "img2=cv2.resize(img2,(150,150))"
   ]
  },
  {
   "cell_type": "code",
   "execution_count": 38,
   "metadata": {},
   "outputs": [],
   "source": [
    "img2 = np.array([img2]).astype('float64') / 255.0"
   ]
  },
  {
   "cell_type": "code",
   "execution_count": 39,
   "metadata": {},
   "outputs": [
    {
     "name": "stdout",
     "output_type": "stream",
     "text": [
      "[[1.]]\n"
     ]
    }
   ],
   "source": [
    "pre = model.predict(img2)\n",
    "print(pre)"
   ]
  },
  {
   "cell_type": "code",
   "execution_count": 40,
   "metadata": {},
   "outputs": [],
   "source": [
    "target_index = np.argmax(pre[0])"
   ]
  },
  {
   "cell_type": "code",
   "execution_count": 41,
   "metadata": {},
   "outputs": [],
   "source": [
    "prob = np.max(pre[0])"
   ]
  },
  {
   "cell_type": "code",
   "execution_count": 42,
   "metadata": {},
   "outputs": [
    {
     "name": "stdout",
     "output_type": "stream",
     "text": [
      "0\n"
     ]
    }
   ],
   "source": [
    "#Class Index\n",
    "print(target_index)"
   ]
  },
  {
   "cell_type": "code",
   "execution_count": 43,
   "metadata": {},
   "outputs": [
    {
     "name": "stdout",
     "output_type": "stream",
     "text": [
      "1.0\n"
     ]
    }
   ],
   "source": [
    "#Class Probability\n",
    "print(prob)"
   ]
  },
  {
   "cell_type": "code",
   "execution_count": 47,
   "metadata": {},
   "outputs": [
    {
     "name": "stdout",
     "output_type": "stream",
     "text": [
      "\n",
      "Press associated number to the move you want to play\n",
      "Rock - 1  \n",
      "Scissor - 2  \n",
      "Paper - 0\n",
      "Exit - -1\n",
      "\n",
      "Enter Your Move:2\n",
      "AI beat you\n"
     ]
    }
   ],
   "source": [
    "#Now lets randomly generate output as per users input move\n",
    "import random as ran\n",
    "print('''\n",
    "Press associated number to the move you want to play\n",
    "Rock - 1  \n",
    "Scissor - 2  \n",
    "Paper - 0\n",
    "Exit - -1\n",
    "''')\n",
    "userin=10\n",
    "while(True):\n",
    "    userin = int(input('Enter Your Move:'))\n",
    "    aiin = ran.randint(0,2)\n",
    "    if(userin<3 and userin>0):\n",
    "        if(userin==aiin):\n",
    "            print('Its a Tie')\n",
    "            break\n",
    "        elif(userin==1 and aiin==3):\n",
    "            print('AI beat you')\n",
    "            break\n",
    "        elif(userin==1 and aiin==2):\n",
    "            print('You beat AI')\n",
    "            break\n",
    "        elif(userin==2 and aiin==3):\n",
    "            print('You beat AI')\n",
    "            break\n",
    "        elif(userin==2 and aiin==1):\n",
    "            print('AI beat you')\n",
    "            break\n",
    "        elif(userin==3 and aiin==1):\n",
    "            print('You beat AI')\n",
    "            break\n",
    "        else:\n",
    "            print('AI beat you')\n",
    "            break\n",
    "    else:\n",
    "        print('Exiting...')\n",
    "        break\n",
    "\n",
    "        "
   ]
  },
  {
   "cell_type": "code",
   "execution_count": null,
   "metadata": {},
   "outputs": [],
   "source": []
  }
 ],
 "metadata": {
  "kernelspec": {
   "display_name": "Python 3",
   "language": "python",
   "name": "python3"
  },
  "language_info": {
   "codemirror_mode": {
    "name": "ipython",
    "version": 3
   },
   "file_extension": ".py",
   "mimetype": "text/x-python",
   "name": "python",
   "nbconvert_exporter": "python",
   "pygments_lexer": "ipython3",
   "version": "3.8.3"
  }
 },
 "nbformat": 4,
 "nbformat_minor": 4
}
