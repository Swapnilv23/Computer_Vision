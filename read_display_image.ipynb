{
 "cells": [
  {
   "cell_type": "raw",
   "metadata": {},
   "source": [
    "How to read and display an image in OpenCV?"
   ]
  },
  {
   "cell_type": "code",
   "execution_count": 1,
   "metadata": {},
   "outputs": [
    {
     "name": "stdout",
     "output_type": "stream",
     "text": [
      "(549, 428, 3)\n"
     ]
    }
   ],
   "source": [
    "import cv2\n",
    "#To read image\n",
    "img=cv2.imread(\"b6.bmp\")\n",
    "#How many rows and columns means height and width and channel\n",
    "#means to show resolution : height in pixel * width in pixel*channel\n",
    "print(img.shape)"
   ]
  },
  {
   "cell_type": "code",
   "execution_count": 2,
   "metadata": {},
   "outputs": [
    {
     "name": "stdout",
     "output_type": "stream",
     "text": [
      "Shape of Gray scale Image :  (549, 428)\n",
      "[[188 188 189 ... 194 194 194]\n",
      " [188 188 189 ... 194 194 194]\n",
      " [189 189 189 ... 194 194 194]\n",
      " ...\n",
      " [111  88  75 ...  75  76  76]\n",
      " [ 98 101  91 ...  75  76  77]\n",
      " [ 73  95 104 ...  75  76  76]]\n"
     ]
    }
   ],
   "source": [
    "#Code for to convert colored image into gray scale image\n",
    "#How to convert RGB image (coloured image)into GrayScale image\n",
    "#GrayScale means 1 channel means 1 color(range : 0-255 only\n",
    "#use cvtColor() inbuilt mmethod of cv2 library\n",
    "gray_img=cv2.cvtColor(img,cv2.COLOR_BGR2GRAY)\n",
    "print(\"Shape of Gray scale Image : \",gray_img.shape)\n",
    "print(gray_img)\n",
    "cv2.imshow(\"Original Image\",img)\n",
    "cv2.imshow(\"Gray Scale Image\",gray_img)\n",
    "cv2.waitKey(0) #to hold output screen (when press any key of\n",
    "#keyboard then exit the output screen)\n",
    "cv2.destroyAllWindows()\n"
   ]
  },
  {
   "cell_type": "code",
   "execution_count": null,
   "metadata": {},
   "outputs": [],
   "source": []
  }
 ],
 "metadata": {
  "kernelspec": {
   "display_name": "Python 3 (ipykernel)",
   "language": "python",
   "name": "python3"
  },
  "language_info": {
   "codemirror_mode": {
    "name": "ipython",
    "version": 3
   },
   "file_extension": ".py",
   "mimetype": "text/x-python",
   "name": "python",
   "nbconvert_exporter": "python",
   "pygments_lexer": "ipython3",
   "version": "3.8.11"
  }
 },
 "nbformat": 4,
 "nbformat_minor": 4
}
